{
 "cells": [
  {
   "cell_type": "code",
   "execution_count": 25,
   "id": "4453198b-9416-4355-b871-e8b27a139681",
   "metadata": {},
   "outputs": [],
   "source": [
    "#Import require Libraries\n",
    "import pandas as pd\n",
    "import numpy as np\n",
    "from sklearn.model_selection import train_test_split\n",
    "from sklearn.preprocessing import StandardScaler\n",
    "from sklearn.ensemble import RandomForestRegressor\n",
    "from sklearn.metrics import mean_absolute_error,r2_score,mean_squared_error"
   ]
  },
  {
   "cell_type": "code",
   "execution_count": 4,
   "id": "6faad902-63a1-45ad-ad6e-91517a1c145b",
   "metadata": {},
   "outputs": [
    {
     "data": {
      "text/html": [
       "<div>\n",
       "<style scoped>\n",
       "    .dataframe tbody tr th:only-of-type {\n",
       "        vertical-align: middle;\n",
       "    }\n",
       "\n",
       "    .dataframe tbody tr th {\n",
       "        vertical-align: top;\n",
       "    }\n",
       "\n",
       "    .dataframe thead th {\n",
       "        text-align: right;\n",
       "    }\n",
       "</style>\n",
       "<table border=\"1\" class=\"dataframe\">\n",
       "  <thead>\n",
       "    <tr style=\"text-align: right;\">\n",
       "      <th></th>\n",
       "      <th>Petrol_tax</th>\n",
       "      <th>Average_income</th>\n",
       "      <th>Paved_Highways</th>\n",
       "      <th>Population_Driver_licence(%)</th>\n",
       "      <th>Petrol_Consumption</th>\n",
       "    </tr>\n",
       "  </thead>\n",
       "  <tbody>\n",
       "    <tr>\n",
       "      <th>0</th>\n",
       "      <td>9.0</td>\n",
       "      <td>3571</td>\n",
       "      <td>1976</td>\n",
       "      <td>0.525</td>\n",
       "      <td>541</td>\n",
       "    </tr>\n",
       "    <tr>\n",
       "      <th>1</th>\n",
       "      <td>9.0</td>\n",
       "      <td>4092</td>\n",
       "      <td>1250</td>\n",
       "      <td>0.572</td>\n",
       "      <td>524</td>\n",
       "    </tr>\n",
       "    <tr>\n",
       "      <th>2</th>\n",
       "      <td>9.0</td>\n",
       "      <td>3865</td>\n",
       "      <td>1586</td>\n",
       "      <td>0.580</td>\n",
       "      <td>561</td>\n",
       "    </tr>\n",
       "    <tr>\n",
       "      <th>3</th>\n",
       "      <td>7.5</td>\n",
       "      <td>4870</td>\n",
       "      <td>2351</td>\n",
       "      <td>0.529</td>\n",
       "      <td>414</td>\n",
       "    </tr>\n",
       "    <tr>\n",
       "      <th>4</th>\n",
       "      <td>8.0</td>\n",
       "      <td>4399</td>\n",
       "      <td>431</td>\n",
       "      <td>0.544</td>\n",
       "      <td>410</td>\n",
       "    </tr>\n",
       "  </tbody>\n",
       "</table>\n",
       "</div>"
      ],
      "text/plain": [
       "   Petrol_tax  Average_income  Paved_Highways  Population_Driver_licence(%)  \\\n",
       "0         9.0            3571            1976                         0.525   \n",
       "1         9.0            4092            1250                         0.572   \n",
       "2         9.0            3865            1586                         0.580   \n",
       "3         7.5            4870            2351                         0.529   \n",
       "4         8.0            4399             431                         0.544   \n",
       "\n",
       "   Petrol_Consumption  \n",
       "0                 541  \n",
       "1                 524  \n",
       "2                 561  \n",
       "3                 414  \n",
       "4                 410  "
      ]
     },
     "execution_count": 4,
     "metadata": {},
     "output_type": "execute_result"
    }
   ],
   "source": [
    "df=pd.read_csv('petrol_consumption.csv')\n",
    "df.head()"
   ]
  },
  {
   "cell_type": "code",
   "execution_count": 5,
   "id": "0b9cde3a-c406-49eb-96ba-dce6447379f8",
   "metadata": {},
   "outputs": [
    {
     "name": "stdout",
     "output_type": "stream",
     "text": [
      "<class 'pandas.core.frame.DataFrame'>\n",
      "RangeIndex: 48 entries, 0 to 47\n",
      "Data columns (total 5 columns):\n",
      " #   Column                        Non-Null Count  Dtype  \n",
      "---  ------                        --------------  -----  \n",
      " 0   Petrol_tax                    48 non-null     float64\n",
      " 1   Average_income                48 non-null     int64  \n",
      " 2   Paved_Highways                48 non-null     int64  \n",
      " 3   Population_Driver_licence(%)  48 non-null     float64\n",
      " 4   Petrol_Consumption            48 non-null     int64  \n",
      "dtypes: float64(2), int64(3)\n",
      "memory usage: 2.0 KB\n"
     ]
    }
   ],
   "source": [
    "df.info()"
   ]
  },
  {
   "cell_type": "code",
   "execution_count": 6,
   "id": "84db8a61-84b2-43f4-884c-44ebcdcef952",
   "metadata": {},
   "outputs": [],
   "source": [
    "X=df.iloc[:,0:4].values\n",
    "y=df.iloc[:,4].values"
   ]
  },
  {
   "cell_type": "code",
   "execution_count": 8,
   "id": "5dc478bb-a747-4ccb-8d01-fbd80cc86895",
   "metadata": {},
   "outputs": [],
   "source": [
    "Xtrain,Xtest,ytrain,ytest=train_test_split(X,y,test_size=0.2,random_state=0)"
   ]
  },
  {
   "cell_type": "code",
   "execution_count": 10,
   "id": "f7d1479b-1727-4a5f-9ec5-17e019280850",
   "metadata": {},
   "outputs": [],
   "source": [
    "#Standarizing the data\n",
    "sc=StandardScaler()\n",
    "Xtrain=sc.fit_transform(Xtrain)\n",
    "Xtest=sc.transform(Xtest)"
   ]
  },
  {
   "cell_type": "code",
   "execution_count": 12,
   "id": "06aad4ec-0884-456f-a6d2-af3a9d2cee03",
   "metadata": {},
   "outputs": [],
   "source": [
    "reg=RandomForestRegressor(n_estimators=20,random_state=0) #n_estimators=20 means it will build 20 decision trees.\n",
    "reg.fit(Xtrain,ytrain)\n",
    "ypred=reg.predict(Xtest)"
   ]
  },
  {
   "cell_type": "code",
   "execution_count": 22,
   "id": "e151818c-15b0-4da1-87d8-fd04c8caf3d6",
   "metadata": {},
   "outputs": [
    {
     "name": "stdout",
     "output_type": "stream",
     "text": [
      "Train MAE: 19.986842105263165\n",
      "Train RSME: 4.470664615609537\n",
      "R Square: 0.9372445764892429\n"
     ]
    }
   ],
   "source": [
    "#Calculate Performance metrics\n",
    "print(\"Train MAE:\", mean_absolute_error(ytrain,reg.predict(Xtrain)))\n",
    "print(\"Train RSME:\", np.sqrt(mean_absolute_error(ytrain,reg.predict(Xtrain))))\n",
    "print(\"R Square:\", r2_score(ytrain,reg.predict(Xtrain)))"
   ]
  },
  {
   "cell_type": "code",
   "execution_count": 24,
   "id": "a63b08b1-d0ee-4ecf-845d-870858246caa",
   "metadata": {},
   "outputs": [
    {
     "name": "stdout",
     "output_type": "stream",
     "text": [
      "Test MAE: 74.16\n",
      "Test RSME: 8.611620056644394\n",
      "Test R Square: -0.31997767704763524\n"
     ]
    }
   ],
   "source": [
    "print(\"Test MAE:\", mean_absolute_error(ytest,ypred))\n",
    "print(\"Test RSME:\", np.sqrt(mean_absolute_error(ytest,ypred)))\n",
    "print(\"Test R Square:\", r2_score(ytest,ypred)) #R2score should be close to 1"
   ]
  },
  {
   "cell_type": "code",
   "execution_count": 19,
   "id": "9b461263-99d5-4fd2-8e3f-b718fa21e239",
   "metadata": {},
   "outputs": [
    {
     "data": {
      "text/plain": [
       "np.int64(968)"
      ]
     },
     "execution_count": 19,
     "metadata": {},
     "output_type": "execute_result"
    }
   ],
   "source": [
    "y.max()"
   ]
  },
  {
   "cell_type": "code",
   "execution_count": 21,
   "id": "b55d4d14-5eb7-41a0-bf57-ae81148124f3",
   "metadata": {},
   "outputs": [
    {
     "data": {
      "text/plain": [
       "np.int64(344)"
      ]
     },
     "execution_count": 21,
     "metadata": {},
     "output_type": "execute_result"
    }
   ],
   "source": [
    "y.min()"
   ]
  },
  {
   "cell_type": "raw",
   "id": "b35b3064-5dfb-415e-a6b7-c968422b457a",
   "metadata": {},
   "source": [
    "Note: We have evaluated train data on RandomForestRegression model to check whether model has learned well or just memorised the data.\n",
    "The evaluation metrics reveal signs of overfitting, with substantially lower MAE and RMSE on the training data than on the test data, indicating that the model may not be generalizing well."
   ]
  },
  {
   "cell_type": "code",
   "execution_count": null,
   "id": "8327bcb3-f423-4e40-a017-a0ab6e1a8d4b",
   "metadata": {},
   "outputs": [],
   "source": []
  }
 ],
 "metadata": {
  "kernelspec": {
   "display_name": "Python 3 (ipykernel)",
   "language": "python",
   "name": "python3"
  },
  "language_info": {
   "codemirror_mode": {
    "name": "ipython",
    "version": 3
   },
   "file_extension": ".py",
   "mimetype": "text/x-python",
   "name": "python",
   "nbconvert_exporter": "python",
   "pygments_lexer": "ipython3",
   "version": "3.13.1"
  }
 },
 "nbformat": 4,
 "nbformat_minor": 5
}
